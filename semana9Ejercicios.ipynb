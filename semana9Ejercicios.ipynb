{
  "nbformat": 4,
  "nbformat_minor": 0,
  "metadata": {
    "colab": {
      "provenance": [],
      "collapsed_sections": [],
      "toc_visible": true,
      "include_colab_link": true
    },
    "kernelspec": {
      "name": "python3",
      "display_name": "Python 3"
    },
    "language_info": {
      "name": "python"
    }
  },
  "cells": [
    {
      "cell_type": "markdown",
      "metadata": {
        "id": "view-in-github",
        "colab_type": "text"
      },
      "source": [
        "<a href=\"https://colab.research.google.com/github/FrancoCarrillo/FastRoute/blob/main/semana9Ejercicios.ipynb\" target=\"_parent\"><img src=\"https://colab.research.google.com/assets/colab-badge.svg\" alt=\"Open In Colab\"/></a>"
      ]
    },
    {
      "cell_type": "markdown",
      "source": [
        "# **\"Semana 9\"**\n",
        "\n",
        "Considere una situación con un número de personas y siguiendo las tareas a realizar en ellas.\n",
        "\n",
        "Agregar una nueva relación de amistad, es decir, una persona x se convierte en amiga de otra persona y.\n",
        "\n",
        "Encuentra si el individuo x es un amigo del individuo y (amigo directo o indirecto)\n",
        "\n",
        "Nos dan 10 individuos: a, b, c, d, e, f, g, h, i, j\n",
        "\n",
        "Las siguientes son las relaciones que deben agregarse.\n",
        "\n",
        "a ⇐⇒ b\n",
        "\n",
        "b ⇐⇒ d\n",
        "\n",
        "c ⇐⇒ f \n",
        "\n",
        "c ⇐⇒ i \n",
        "\n",
        "j ⇐⇒ e \n",
        "\n",
        "g ⇐⇒ j\n",
        "\n",
        "Y tenemos consultas como: a es amigo de d o no\n",
        "\n",
        "Básicamente necesitamos crear los siguientes 4 grupos: \n",
        "\n",
        "G1 = {a, b, d}\n",
        "\n",
        "G2 = {c, f, i}\n",
        "\n",
        "G3 = {e, g, j}\n",
        "\n",
        "G4 = {h}\n",
        "\n",
        "Mantener una conexión de acceso rápido entre los elementos de los grupos.\n"
      ],
      "metadata": {
        "id": "CwsonjyHZpK3"
      }
    },
    {
      "cell_type": "code",
      "execution_count": null,
      "metadata": {
        "id": "0l-KFmN5TSeR"
      },
      "outputs": [],
      "source": [
        "import graphviz as gv\n",
        "import numpy as np"
      ]
    },
    {
      "cell_type": "code",
      "source": [
        "#@title Dibujar grafo\n",
        "def drawUF(a=[], lis=[],labels=[],labeled='False', weighted='False'):\n",
        "    dot = gv.Digraph(comment='ListaDeCompononentes')\n",
        "    n = len(a)\n",
        "    if labeled=='False':\n",
        "      for i in range(n):\n",
        "        dot.node(str(i), str(i))\n",
        "      for i in range(n):\n",
        "        if i != a[i]:\n",
        "          dot.edge(str(i), str(a[i]))\n",
        "    else:\n",
        "      for i in range(n):\n",
        "        dot.node(labels[i],labels[i])\n",
        "      for i in range(n):\n",
        "        if weighted=='False':\n",
        "            if labels[i]!=a[i]:\n",
        "              dot.edge(labels[i], a[i])\n",
        "        else:\n",
        "            if lis[i]>=0:\n",
        "              dot.edge(labels[i], labels[lis[i]])\n",
        "    dot.graph_attr['rankdir'] = 'BT'\n",
        "    return dot\n"
      ],
      "metadata": {
        "id": "EN_Y4_k00cJm"
      },
      "execution_count": null,
      "outputs": []
    },
    {
      "cell_type": "code",
      "source": [
        "#@title Class QuickFind\n",
        "class QuickFind(object): #el arreglo es de raíces\n",
        "    def __init__(self, N):\n",
        "        self.lst = list(range(N))\n",
        "    def find(self, p, q):\n",
        "        return self.lst[p] == self.lst[q]\n",
        "    def union(self, p, q):\n",
        "        pid = self.lst[p]\n",
        "        qid = self.lst[q]\n",
        "        if pid==qid:\n",
        "            print(\"Unido\")\n",
        "            return \n",
        "        for ind in range(len((self.lst))):\n",
        "            if self.lst[ind] == pid:\n",
        "                self.lst[ind] = qid\n",
        "        print(self.lst) \n",
        "    def getList(self):\n",
        "        return self.lst\n",
        "        "
      ],
      "metadata": {
        "cellView": "form",
        "id": "S2nj7FqRcYtu"
      },
      "execution_count": null,
      "outputs": []
    },
    {
      "cell_type": "code",
      "source": [
        "#@title Class QuickUnion\n",
        "class QuickUnion(object):#el arerglo es de padres\n",
        "    def __init__(self, N):\n",
        "        self.lst = list(range(N))\n",
        "    def find(self, ind):\n",
        "        while ind != self.lst[ind]:\n",
        "            ind = self.lst[ind]\n",
        "        return ind\n",
        "    def connected(self, p, q): #consulta\n",
        "        return self.find(p) == self.find(q)\n",
        "    def union(self, p, q):\n",
        "        qid=self.find(q)\n",
        "        #pid = self.find(p)\n",
        "        self.lst[qid] = self.find(p)\n",
        "    def getList(self):\n",
        "        return self.lst\n"
      ],
      "metadata": {
        "id": "_l1f6kdlcfel"
      },
      "execution_count": null,
      "outputs": []
    },
    {
      "cell_type": "code",
      "source": [
        "#@title Class QuickUnion Árbol ponderado\n",
        "class WeightedQuickUnion(object):\n",
        "  def __init__(self,N):\n",
        "    self.lst=list(-1 for _ in range(N))\n",
        "  def find(self, ind):\n",
        "    while self.lst[ind]>=0:\n",
        "      ind = self.lst[ind]\n",
        "    return ind\n",
        "  def connected(self, a, b):\n",
        "    return self.find(a)==self.find(b)\n",
        "  def union(self, a,b):\n",
        "    if self.connected(a,b): return\n",
        "    pa = self.find(a) # la raiz de a\n",
        "    pb = self.find(b) # la raiz de b\n",
        "    #print(self.lst[pa], self.lst[pb])  # lo que se compara es el tamaño de los árboles de las raíces\n",
        "    if self.lst[pa] <= self.lst[pb]:  #pa tiene mayor o igual cnt de nodos que pb\n",
        "        self.lst[pa] += self.lst[pb]\n",
        "        self.lst[pb] = pa\n",
        "    else:                                # self.lst[pa] > self.lst[pb]:pb tiene mayor cnt de nodos que pa\n",
        "        self.lst[pb] += self.lst[pa]\n",
        "        self.lst[pa] = pb\n",
        "    \n",
        "  def getList(self):\n",
        "    return self.lst"
      ],
      "metadata": {
        "id": "OJQXIDnXoKaU"
      },
      "execution_count": null,
      "outputs": []
    },
    {
      "cell_type": "code",
      "source": [
        "#@title Class QuickUnion Ponderado con compresión\n",
        "class WQUwithCompression(object):\n",
        "  def __init__(self,N):\n",
        "    self.lst=list(-1 for _ in range(N))\n",
        "  def find(self, ind):\n",
        "    #if self.lst[ind]<0: return ind\n",
        "    #self.lst[ind]=self.find(self.lst[ind])\n",
        "    root = ind    \n",
        "    while self.lst[root]>=0:\n",
        "      root=self.lst[root]\n",
        "    while ind!=root:\n",
        "      next=self.lst[ind]\n",
        "      self.lst[ind]=root\n",
        "      ind=next\n",
        "\n",
        "    return root\n",
        "  def connected(self, a, b):\n",
        "    return self.find(a)==self.find(b)\n",
        "  def union(self, a,b):\n",
        "    if self.connected(a,b): return\n",
        "    pa = self.find(a) # la raiz de a\n",
        "    pb = self.find(b) # la raiz de b\n",
        "    #print(self.lst[pa], self.lst[pb])  # lo que se compara es el tamaño de los árboles de las raíces\n",
        "    if self.lst[pa] <= self.lst[pb]:  #pa tiene mayor o igual cnt de nodos que pb\n",
        "        self.lst[pa] += self.lst[pb]\n",
        "        self.lst[pb] = pa\n",
        "    else:                                # self.lst[pa] > self.lst[pb]:pb tiene mayor cnt de nodos que pa\n",
        "        self.lst[pb] += self.lst[pa]\n",
        "        self.lst[pa] = pb\n",
        "    self.find(a)\n",
        "    self.find(b)\n",
        "  def getList(self):\n",
        "    return self.lst"
      ],
      "metadata": {
        "id": "tF8aXLuXN1zG"
      },
      "execution_count": null,
      "outputs": []
    },
    {
      "cell_type": "code",
      "source": [
        "#@title Input\n",
        "%%file inp.txt\n",
        "a b c d e f g h i j\n",
        "a b\n",
        "b d\n",
        "c f\n",
        "c i\n",
        "j e\n",
        "g j"
      ],
      "metadata": {
        "colab": {
          "base_uri": "https://localhost:8080/"
        },
        "id": "CRHbKxy3cjDI",
        "outputId": "c85de752-622e-4459-a920-ceeda0a881ab"
      },
      "execution_count": null,
      "outputs": [
        {
          "output_type": "stream",
          "name": "stdout",
          "text": [
            "Writing inp.txt\n"
          ]
        }
      ]
    },
    {
      "cell_type": "code",
      "source": [
        "#@title Reading function\n",
        "def reading(myfile, hashlabels=False, weighted=False):\n",
        "  with open(myfile) as inp:\n",
        "    labels=None\n",
        "    if hashlabels:\n",
        "      labels = inp.readline().strip().split()\n",
        "    Unions=[]\n",
        "    for line in inp:\n",
        "      Unions.append(list(line.strip().split()))\n",
        "\n",
        "  return labels, Unions      "
      ],
      "metadata": {
        "cellView": "form",
        "id": "HhudhxOHdwqB"
      },
      "execution_count": null,
      "outputs": []
    },
    {
      "cell_type": "markdown",
      "source": [
        "# **Ejercicio 1**\n",
        "### Ejercicio 1.1\n",
        "Implemente las funciones Find y Union.\n",
        "\n",
        "### Ejercicio 1.2\n",
        "Implemente un algoritmo para gestionar el grupo de amigos descrito en la primera parte"
      ],
      "metadata": {
        "id": "4e3TsQVRcrKf"
      }
    },
    {
      "cell_type": "code",
      "source": [
        "labels,unions=reading(\"inp.txt\", hashlabels=True)\n",
        "mydic={labels[i]:i for i in range(len(labels))}\n",
        "obj=QuickUnion(len(labels))\n",
        "for i in range(len(unions)):\n",
        "  obj.union(mydic[unions[i][0]], mydic[unions[i][1]])\n",
        "lis=obj.getList()\n",
        "newlist=[labels[lis[i]] for i in range(len(lis))]\n",
        "print(np.array(unions))\n",
        "print(newlist)\n",
        "drawUF(a=newlist,labels=labels, labeled='True')"
      ],
      "metadata": {
        "colab": {
          "base_uri": "https://localhost:8080/",
          "height": 393
        },
        "id": "rEzvBQMbf8a2",
        "outputId": "fe1b3baf-1b15-4d3f-9107-3521b1ad3ea5"
      },
      "execution_count": null,
      "outputs": [
        {
          "output_type": "stream",
          "name": "stdout",
          "text": [
            "[['a' 'b']\n",
            " ['b' 'd']\n",
            " ['c' 'f']\n",
            " ['c' 'i']\n",
            " ['j' 'e']\n",
            " ['g' 'j']]\n",
            "['a', 'a', 'c', 'a', 'j', 'c', 'g', 'h', 'c', 'g']\n"
          ]
        },
        {
          "output_type": "execute_result",
          "data": {
            "text/plain": [
              "<graphviz.dot.Digraph at 0x7f88a85cfdd0>"
            ],
            "image/svg+xml": "<?xml version=\"1.0\" encoding=\"UTF-8\" standalone=\"no\"?>\n<!DOCTYPE svg PUBLIC \"-//W3C//DTD SVG 1.1//EN\"\n \"http://www.w3.org/Graphics/SVG/1.1/DTD/svg11.dtd\">\n<!-- Generated by graphviz version 2.40.1 (20161225.0304)\n -->\n<!-- Title: %3 Pages: 1 -->\n<svg width=\"422pt\" height=\"188pt\"\n viewBox=\"0.00 0.00 422.00 188.00\" xmlns=\"http://www.w3.org/2000/svg\" xmlns:xlink=\"http://www.w3.org/1999/xlink\">\n<g id=\"graph0\" class=\"graph\" transform=\"scale(1 1) rotate(0) translate(4 184)\">\n<title>%3</title>\n<polygon fill=\"#ffffff\" stroke=\"transparent\" points=\"-4,4 -4,-184 418,-184 418,4 -4,4\"/>\n<!-- a -->\n<g id=\"node1\" class=\"node\">\n<title>a</title>\n<ellipse fill=\"none\" stroke=\"#000000\" cx=\"63\" cy=\"-90\" rx=\"27\" ry=\"18\"/>\n<text text-anchor=\"middle\" x=\"63\" y=\"-86.3\" font-family=\"Times,serif\" font-size=\"14.00\" fill=\"#000000\">a</text>\n</g>\n<!-- b -->\n<g id=\"node2\" class=\"node\">\n<title>b</title>\n<ellipse fill=\"none\" stroke=\"#000000\" cx=\"27\" cy=\"-18\" rx=\"27\" ry=\"18\"/>\n<text text-anchor=\"middle\" x=\"27\" y=\"-14.3\" font-family=\"Times,serif\" font-size=\"14.00\" fill=\"#000000\">b</text>\n</g>\n<!-- b&#45;&gt;a -->\n<g id=\"edge1\" class=\"edge\">\n<title>b&#45;&gt;a</title>\n<path fill=\"none\" stroke=\"#000000\" d=\"M35.7146,-35.4292C39.9597,-43.9193 45.1536,-54.3071 49.8663,-63.7326\"/>\n<polygon fill=\"#000000\" stroke=\"#000000\" points=\"46.763,-65.3523 54.3657,-72.7313 53.024,-62.2218 46.763,-65.3523\"/>\n</g>\n<!-- c -->\n<g id=\"node3\" class=\"node\">\n<title>c</title>\n<ellipse fill=\"none\" stroke=\"#000000\" cx=\"207\" cy=\"-90\" rx=\"27\" ry=\"18\"/>\n<text text-anchor=\"middle\" x=\"207\" y=\"-86.3\" font-family=\"Times,serif\" font-size=\"14.00\" fill=\"#000000\">c</text>\n</g>\n<!-- d -->\n<g id=\"node4\" class=\"node\">\n<title>d</title>\n<ellipse fill=\"none\" stroke=\"#000000\" cx=\"99\" cy=\"-18\" rx=\"27\" ry=\"18\"/>\n<text text-anchor=\"middle\" x=\"99\" y=\"-14.3\" font-family=\"Times,serif\" font-size=\"14.00\" fill=\"#000000\">d</text>\n</g>\n<!-- d&#45;&gt;a -->\n<g id=\"edge2\" class=\"edge\">\n<title>d&#45;&gt;a</title>\n<path fill=\"none\" stroke=\"#000000\" d=\"M90.2854,-35.4292C86.0403,-43.9193 80.8464,-54.3071 76.1337,-63.7326\"/>\n<polygon fill=\"#000000\" stroke=\"#000000\" points=\"72.976,-62.2218 71.6343,-72.7313 79.237,-65.3523 72.976,-62.2218\"/>\n</g>\n<!-- e -->\n<g id=\"node5\" class=\"node\">\n<title>e</title>\n<ellipse fill=\"none\" stroke=\"#000000\" cx=\"315\" cy=\"-18\" rx=\"27\" ry=\"18\"/>\n<text text-anchor=\"middle\" x=\"315\" y=\"-14.3\" font-family=\"Times,serif\" font-size=\"14.00\" fill=\"#000000\">e</text>\n</g>\n<!-- j -->\n<g id=\"node10\" class=\"node\">\n<title>j</title>\n<ellipse fill=\"none\" stroke=\"#000000\" cx=\"315\" cy=\"-90\" rx=\"27\" ry=\"18\"/>\n<text text-anchor=\"middle\" x=\"315\" y=\"-86.3\" font-family=\"Times,serif\" font-size=\"14.00\" fill=\"#000000\">j</text>\n</g>\n<!-- e&#45;&gt;j -->\n<g id=\"edge3\" class=\"edge\">\n<title>e&#45;&gt;j</title>\n<path fill=\"none\" stroke=\"#000000\" d=\"M315,-36.1686C315,-43.869 315,-53.0257 315,-61.5834\"/>\n<polygon fill=\"#000000\" stroke=\"#000000\" points=\"311.5001,-61.5867 315,-71.5867 318.5001,-61.5868 311.5001,-61.5867\"/>\n</g>\n<!-- f -->\n<g id=\"node6\" class=\"node\">\n<title>f</title>\n<ellipse fill=\"none\" stroke=\"#000000\" cx=\"171\" cy=\"-18\" rx=\"27\" ry=\"18\"/>\n<text text-anchor=\"middle\" x=\"171\" y=\"-14.3\" font-family=\"Times,serif\" font-size=\"14.00\" fill=\"#000000\">f</text>\n</g>\n<!-- f&#45;&gt;c -->\n<g id=\"edge4\" class=\"edge\">\n<title>f&#45;&gt;c</title>\n<path fill=\"none\" stroke=\"#000000\" d=\"M179.7146,-35.4292C183.9597,-43.9193 189.1536,-54.3071 193.8663,-63.7326\"/>\n<polygon fill=\"#000000\" stroke=\"#000000\" points=\"190.763,-65.3523 198.3657,-72.7313 197.024,-62.2218 190.763,-65.3523\"/>\n</g>\n<!-- g -->\n<g id=\"node7\" class=\"node\">\n<title>g</title>\n<ellipse fill=\"none\" stroke=\"#000000\" cx=\"315\" cy=\"-162\" rx=\"27\" ry=\"18\"/>\n<text text-anchor=\"middle\" x=\"315\" y=\"-158.3\" font-family=\"Times,serif\" font-size=\"14.00\" fill=\"#000000\">g</text>\n</g>\n<!-- h -->\n<g id=\"node8\" class=\"node\">\n<title>h</title>\n<ellipse fill=\"none\" stroke=\"#000000\" cx=\"387\" cy=\"-18\" rx=\"27\" ry=\"18\"/>\n<text text-anchor=\"middle\" x=\"387\" y=\"-14.3\" font-family=\"Times,serif\" font-size=\"14.00\" fill=\"#000000\">h</text>\n</g>\n<!-- i -->\n<g id=\"node9\" class=\"node\">\n<title>i</title>\n<ellipse fill=\"none\" stroke=\"#000000\" cx=\"243\" cy=\"-18\" rx=\"27\" ry=\"18\"/>\n<text text-anchor=\"middle\" x=\"243\" y=\"-14.3\" font-family=\"Times,serif\" font-size=\"14.00\" fill=\"#000000\">i</text>\n</g>\n<!-- i&#45;&gt;c -->\n<g id=\"edge5\" class=\"edge\">\n<title>i&#45;&gt;c</title>\n<path fill=\"none\" stroke=\"#000000\" d=\"M234.2854,-35.4292C230.0403,-43.9193 224.8464,-54.3071 220.1337,-63.7326\"/>\n<polygon fill=\"#000000\" stroke=\"#000000\" points=\"216.976,-62.2218 215.6343,-72.7313 223.237,-65.3523 216.976,-62.2218\"/>\n</g>\n<!-- j&#45;&gt;g -->\n<g id=\"edge6\" class=\"edge\">\n<title>j&#45;&gt;g</title>\n<path fill=\"none\" stroke=\"#000000\" d=\"M315,-108.1686C315,-115.869 315,-125.0257 315,-133.5834\"/>\n<polygon fill=\"#000000\" stroke=\"#000000\" points=\"311.5001,-133.5867 315,-143.5867 318.5001,-133.5868 311.5001,-133.5867\"/>\n</g>\n</g>\n</svg>\n"
          },
          "metadata": {},
          "execution_count": 10
        }
      ]
    },
    {
      "cell_type": "markdown",
      "source": [
        "\n",
        "#**Ejercicio 2: Mejoras**\n"
      ],
      "metadata": {
        "id": "C3wZaU73KFsn"
      }
    },
    {
      "cell_type": "markdown",
      "source": [
        "###Ejercicio 2.1: Unión por rangos//árbol ponderado//weighted"
      ],
      "metadata": {
        "id": "0q3-lyGlVqFE"
      }
    },
    {
      "cell_type": "code",
      "source": [
        "labels,unions=reading(\"inp.txt\", hashlabels=True)\n",
        "mydic={labels[i]:i for i in range(len(labels))}\n",
        "obj2=WeightedQuickUnion(len(labels))\n",
        "for i in range(len(unions)):\n",
        "  obj2.union(mydic[unions[i][0]], mydic[unions[i][1]])\n",
        "lis=obj2.getList()\n",
        "newlist=[labels[lis[i]]for i in range(len(lis))]\n",
        "print(lis)\n",
        "drawUF(a=newlist, lis=lis,labels=labels, labeled='True', weighted='True')\n"
      ],
      "metadata": {
        "id": "T9RlLEotKUDr",
        "colab": {
          "base_uri": "https://localhost:8080/",
          "height": 193
        },
        "outputId": "d4658178-1751-480f-94ee-5f853c632cea"
      },
      "execution_count": null,
      "outputs": [
        {
          "output_type": "stream",
          "name": "stdout",
          "text": [
            "[-3, 0, -3, 0, 9, 2, 9, -1, 2, -3]\n"
          ]
        },
        {
          "output_type": "execute_result",
          "data": {
            "text/plain": [
              "<graphviz.dot.Digraph at 0x7f88a85dab90>"
            ],
            "image/svg+xml": "<?xml version=\"1.0\" encoding=\"UTF-8\" standalone=\"no\"?>\n<!DOCTYPE svg PUBLIC \"-//W3C//DTD SVG 1.1//EN\"\n \"http://www.w3.org/Graphics/SVG/1.1/DTD/svg11.dtd\">\n<!-- Generated by graphviz version 2.40.1 (20161225.0304)\n -->\n<!-- Title: %3 Pages: 1 -->\n<svg width=\"494pt\" height=\"116pt\"\n viewBox=\"0.00 0.00 494.00 116.00\" xmlns=\"http://www.w3.org/2000/svg\" xmlns:xlink=\"http://www.w3.org/1999/xlink\">\n<g id=\"graph0\" class=\"graph\" transform=\"scale(1 1) rotate(0) translate(4 112)\">\n<title>%3</title>\n<polygon fill=\"#ffffff\" stroke=\"transparent\" points=\"-4,4 -4,-112 490,-112 490,4 -4,4\"/>\n<!-- a -->\n<g id=\"node1\" class=\"node\">\n<title>a</title>\n<ellipse fill=\"none\" stroke=\"#000000\" cx=\"63\" cy=\"-90\" rx=\"27\" ry=\"18\"/>\n<text text-anchor=\"middle\" x=\"63\" y=\"-86.3\" font-family=\"Times,serif\" font-size=\"14.00\" fill=\"#000000\">a</text>\n</g>\n<!-- b -->\n<g id=\"node2\" class=\"node\">\n<title>b</title>\n<ellipse fill=\"none\" stroke=\"#000000\" cx=\"27\" cy=\"-18\" rx=\"27\" ry=\"18\"/>\n<text text-anchor=\"middle\" x=\"27\" y=\"-14.3\" font-family=\"Times,serif\" font-size=\"14.00\" fill=\"#000000\">b</text>\n</g>\n<!-- b&#45;&gt;a -->\n<g id=\"edge1\" class=\"edge\">\n<title>b&#45;&gt;a</title>\n<path fill=\"none\" stroke=\"#000000\" d=\"M35.7146,-35.4292C39.9597,-43.9193 45.1536,-54.3071 49.8663,-63.7326\"/>\n<polygon fill=\"#000000\" stroke=\"#000000\" points=\"46.763,-65.3523 54.3657,-72.7313 53.024,-62.2218 46.763,-65.3523\"/>\n</g>\n<!-- c -->\n<g id=\"node3\" class=\"node\">\n<title>c</title>\n<ellipse fill=\"none\" stroke=\"#000000\" cx=\"207\" cy=\"-90\" rx=\"27\" ry=\"18\"/>\n<text text-anchor=\"middle\" x=\"207\" y=\"-86.3\" font-family=\"Times,serif\" font-size=\"14.00\" fill=\"#000000\">c</text>\n</g>\n<!-- d -->\n<g id=\"node4\" class=\"node\">\n<title>d</title>\n<ellipse fill=\"none\" stroke=\"#000000\" cx=\"99\" cy=\"-18\" rx=\"27\" ry=\"18\"/>\n<text text-anchor=\"middle\" x=\"99\" y=\"-14.3\" font-family=\"Times,serif\" font-size=\"14.00\" fill=\"#000000\">d</text>\n</g>\n<!-- d&#45;&gt;a -->\n<g id=\"edge2\" class=\"edge\">\n<title>d&#45;&gt;a</title>\n<path fill=\"none\" stroke=\"#000000\" d=\"M90.2854,-35.4292C86.0403,-43.9193 80.8464,-54.3071 76.1337,-63.7326\"/>\n<polygon fill=\"#000000\" stroke=\"#000000\" points=\"72.976,-62.2218 71.6343,-72.7313 79.237,-65.3523 72.976,-62.2218\"/>\n</g>\n<!-- e -->\n<g id=\"node5\" class=\"node\">\n<title>e</title>\n<ellipse fill=\"none\" stroke=\"#000000\" cx=\"315\" cy=\"-18\" rx=\"27\" ry=\"18\"/>\n<text text-anchor=\"middle\" x=\"315\" y=\"-14.3\" font-family=\"Times,serif\" font-size=\"14.00\" fill=\"#000000\">e</text>\n</g>\n<!-- j -->\n<g id=\"node10\" class=\"node\">\n<title>j</title>\n<ellipse fill=\"none\" stroke=\"#000000\" cx=\"351\" cy=\"-90\" rx=\"27\" ry=\"18\"/>\n<text text-anchor=\"middle\" x=\"351\" y=\"-86.3\" font-family=\"Times,serif\" font-size=\"14.00\" fill=\"#000000\">j</text>\n</g>\n<!-- e&#45;&gt;j -->\n<g id=\"edge3\" class=\"edge\">\n<title>e&#45;&gt;j</title>\n<path fill=\"none\" stroke=\"#000000\" d=\"M323.7146,-35.4292C327.9597,-43.9193 333.1536,-54.3071 337.8663,-63.7326\"/>\n<polygon fill=\"#000000\" stroke=\"#000000\" points=\"334.763,-65.3523 342.3657,-72.7313 341.024,-62.2218 334.763,-65.3523\"/>\n</g>\n<!-- f -->\n<g id=\"node6\" class=\"node\">\n<title>f</title>\n<ellipse fill=\"none\" stroke=\"#000000\" cx=\"171\" cy=\"-18\" rx=\"27\" ry=\"18\"/>\n<text text-anchor=\"middle\" x=\"171\" y=\"-14.3\" font-family=\"Times,serif\" font-size=\"14.00\" fill=\"#000000\">f</text>\n</g>\n<!-- f&#45;&gt;c -->\n<g id=\"edge4\" class=\"edge\">\n<title>f&#45;&gt;c</title>\n<path fill=\"none\" stroke=\"#000000\" d=\"M179.7146,-35.4292C183.9597,-43.9193 189.1536,-54.3071 193.8663,-63.7326\"/>\n<polygon fill=\"#000000\" stroke=\"#000000\" points=\"190.763,-65.3523 198.3657,-72.7313 197.024,-62.2218 190.763,-65.3523\"/>\n</g>\n<!-- g -->\n<g id=\"node7\" class=\"node\">\n<title>g</title>\n<ellipse fill=\"none\" stroke=\"#000000\" cx=\"387\" cy=\"-18\" rx=\"27\" ry=\"18\"/>\n<text text-anchor=\"middle\" x=\"387\" y=\"-14.3\" font-family=\"Times,serif\" font-size=\"14.00\" fill=\"#000000\">g</text>\n</g>\n<!-- g&#45;&gt;j -->\n<g id=\"edge5\" class=\"edge\">\n<title>g&#45;&gt;j</title>\n<path fill=\"none\" stroke=\"#000000\" d=\"M378.2854,-35.4292C374.0403,-43.9193 368.8464,-54.3071 364.1337,-63.7326\"/>\n<polygon fill=\"#000000\" stroke=\"#000000\" points=\"360.976,-62.2218 359.6343,-72.7313 367.237,-65.3523 360.976,-62.2218\"/>\n</g>\n<!-- h -->\n<g id=\"node8\" class=\"node\">\n<title>h</title>\n<ellipse fill=\"none\" stroke=\"#000000\" cx=\"459\" cy=\"-18\" rx=\"27\" ry=\"18\"/>\n<text text-anchor=\"middle\" x=\"459\" y=\"-14.3\" font-family=\"Times,serif\" font-size=\"14.00\" fill=\"#000000\">h</text>\n</g>\n<!-- i -->\n<g id=\"node9\" class=\"node\">\n<title>i</title>\n<ellipse fill=\"none\" stroke=\"#000000\" cx=\"243\" cy=\"-18\" rx=\"27\" ry=\"18\"/>\n<text text-anchor=\"middle\" x=\"243\" y=\"-14.3\" font-family=\"Times,serif\" font-size=\"14.00\" fill=\"#000000\">i</text>\n</g>\n<!-- i&#45;&gt;c -->\n<g id=\"edge6\" class=\"edge\">\n<title>i&#45;&gt;c</title>\n<path fill=\"none\" stroke=\"#000000\" d=\"M234.2854,-35.4292C230.0403,-43.9193 224.8464,-54.3071 220.1337,-63.7326\"/>\n<polygon fill=\"#000000\" stroke=\"#000000\" points=\"216.976,-62.2218 215.6343,-72.7313 223.237,-65.3523 216.976,-62.2218\"/>\n</g>\n</g>\n</svg>\n"
          },
          "metadata": {},
          "execution_count": 11
        }
      ]
    },
    {
      "cell_type": "markdown",
      "source": [
        "###Ejercicio 2.2: Compresión de caminos//comprensión de la ruta"
      ],
      "metadata": {
        "id": "ruEPZikRrtHV"
      }
    },
    {
      "cell_type": "code",
      "source": [
        "labels,unions=reading(\"inp.txt\", hashlabels=True)\n",
        "mydic={labels[i]:i for i in range(len(labels))}\n",
        "obj3=WQUwithCompression(len(labels))\n",
        "for i in range(len(unions)):\n",
        "  obj3.union(mydic[unions[i][0]], mydic[unions[i][1]])\n",
        "obj3.union(mydic['d'], mydic['f'])\n",
        "obj3.find(mydic['i'])\n",
        "lis=obj3.getList()\n",
        "newlist=[labels[lis[i]]for i in range(len(lis))]\n",
        "print(lis)\n",
        "drawUF(a=newlist, lis=lis,labels=labels, labeled='True', weighted='True')\n",
        "\n"
      ],
      "metadata": {
        "colab": {
          "base_uri": "https://localhost:8080/",
          "height": 193
        },
        "id": "-_PKN-skrtuN",
        "outputId": "1cf33efb-6db8-4a28-fab8-93109181111a"
      },
      "execution_count": null,
      "outputs": [
        {
          "output_type": "stream",
          "name": "stdout",
          "text": [
            "[-6, 0, 0, 0, 9, 0, 9, -1, 0, -3]\n"
          ]
        },
        {
          "output_type": "execute_result",
          "data": {
            "text/plain": [
              "<graphviz.dot.Digraph at 0x7f88a7b39b90>"
            ],
            "image/svg+xml": "<?xml version=\"1.0\" encoding=\"UTF-8\" standalone=\"no\"?>\n<!DOCTYPE svg PUBLIC \"-//W3C//DTD SVG 1.1//EN\"\n \"http://www.w3.org/Graphics/SVG/1.1/DTD/svg11.dtd\">\n<!-- Generated by graphviz version 2.40.1 (20161225.0304)\n -->\n<!-- Title: %3 Pages: 1 -->\n<svg width=\"566pt\" height=\"116pt\"\n viewBox=\"0.00 0.00 566.00 116.00\" xmlns=\"http://www.w3.org/2000/svg\" xmlns:xlink=\"http://www.w3.org/1999/xlink\">\n<g id=\"graph0\" class=\"graph\" transform=\"scale(1 1) rotate(0) translate(4 112)\">\n<title>%3</title>\n<polygon fill=\"#ffffff\" stroke=\"transparent\" points=\"-4,4 -4,-112 562,-112 562,4 -4,4\"/>\n<!-- a -->\n<g id=\"node1\" class=\"node\">\n<title>a</title>\n<ellipse fill=\"none\" stroke=\"#000000\" cx=\"171\" cy=\"-90\" rx=\"27\" ry=\"18\"/>\n<text text-anchor=\"middle\" x=\"171\" y=\"-86.3\" font-family=\"Times,serif\" font-size=\"14.00\" fill=\"#000000\">a</text>\n</g>\n<!-- b -->\n<g id=\"node2\" class=\"node\">\n<title>b</title>\n<ellipse fill=\"none\" stroke=\"#000000\" cx=\"27\" cy=\"-18\" rx=\"27\" ry=\"18\"/>\n<text text-anchor=\"middle\" x=\"27\" y=\"-14.3\" font-family=\"Times,serif\" font-size=\"14.00\" fill=\"#000000\">b</text>\n</g>\n<!-- b&#45;&gt;a -->\n<g id=\"edge1\" class=\"edge\">\n<title>b&#45;&gt;a</title>\n<path fill=\"none\" stroke=\"#000000\" d=\"M48.8705,-28.9353C73.2222,-41.1111 112.762,-60.881 140.2285,-74.6142\"/>\n<polygon fill=\"#000000\" stroke=\"#000000\" points=\"138.886,-77.8561 149.3955,-79.1978 142.0165,-71.5951 138.886,-77.8561\"/>\n</g>\n<!-- c -->\n<g id=\"node3\" class=\"node\">\n<title>c</title>\n<ellipse fill=\"none\" stroke=\"#000000\" cx=\"99\" cy=\"-18\" rx=\"27\" ry=\"18\"/>\n<text text-anchor=\"middle\" x=\"99\" y=\"-14.3\" font-family=\"Times,serif\" font-size=\"14.00\" fill=\"#000000\">c</text>\n</g>\n<!-- c&#45;&gt;a -->\n<g id=\"edge2\" class=\"edge\">\n<title>c&#45;&gt;a</title>\n<path fill=\"none\" stroke=\"#000000\" d=\"M114.2693,-33.2693C124.197,-43.197 137.3153,-56.3153 148.4363,-67.4363\"/>\n<polygon fill=\"#000000\" stroke=\"#000000\" points=\"146.2067,-70.1564 155.7527,-74.7527 151.1564,-65.2067 146.2067,-70.1564\"/>\n</g>\n<!-- d -->\n<g id=\"node4\" class=\"node\">\n<title>d</title>\n<ellipse fill=\"none\" stroke=\"#000000\" cx=\"171\" cy=\"-18\" rx=\"27\" ry=\"18\"/>\n<text text-anchor=\"middle\" x=\"171\" y=\"-14.3\" font-family=\"Times,serif\" font-size=\"14.00\" fill=\"#000000\">d</text>\n</g>\n<!-- d&#45;&gt;a -->\n<g id=\"edge3\" class=\"edge\">\n<title>d&#45;&gt;a</title>\n<path fill=\"none\" stroke=\"#000000\" d=\"M171,-36.1686C171,-43.869 171,-53.0257 171,-61.5834\"/>\n<polygon fill=\"#000000\" stroke=\"#000000\" points=\"167.5001,-61.5867 171,-71.5867 174.5001,-61.5868 167.5001,-61.5867\"/>\n</g>\n<!-- e -->\n<g id=\"node5\" class=\"node\">\n<title>e</title>\n<ellipse fill=\"none\" stroke=\"#000000\" cx=\"387\" cy=\"-18\" rx=\"27\" ry=\"18\"/>\n<text text-anchor=\"middle\" x=\"387\" y=\"-14.3\" font-family=\"Times,serif\" font-size=\"14.00\" fill=\"#000000\">e</text>\n</g>\n<!-- j -->\n<g id=\"node10\" class=\"node\">\n<title>j</title>\n<ellipse fill=\"none\" stroke=\"#000000\" cx=\"423\" cy=\"-90\" rx=\"27\" ry=\"18\"/>\n<text text-anchor=\"middle\" x=\"423\" y=\"-86.3\" font-family=\"Times,serif\" font-size=\"14.00\" fill=\"#000000\">j</text>\n</g>\n<!-- e&#45;&gt;j -->\n<g id=\"edge4\" class=\"edge\">\n<title>e&#45;&gt;j</title>\n<path fill=\"none\" stroke=\"#000000\" d=\"M395.7146,-35.4292C399.9597,-43.9193 405.1536,-54.3071 409.8663,-63.7326\"/>\n<polygon fill=\"#000000\" stroke=\"#000000\" points=\"406.763,-65.3523 414.3657,-72.7313 413.024,-62.2218 406.763,-65.3523\"/>\n</g>\n<!-- f -->\n<g id=\"node6\" class=\"node\">\n<title>f</title>\n<ellipse fill=\"none\" stroke=\"#000000\" cx=\"243\" cy=\"-18\" rx=\"27\" ry=\"18\"/>\n<text text-anchor=\"middle\" x=\"243\" y=\"-14.3\" font-family=\"Times,serif\" font-size=\"14.00\" fill=\"#000000\">f</text>\n</g>\n<!-- f&#45;&gt;a -->\n<g id=\"edge5\" class=\"edge\">\n<title>f&#45;&gt;a</title>\n<path fill=\"none\" stroke=\"#000000\" d=\"M227.7307,-33.2693C217.803,-43.197 204.6847,-56.3153 193.5637,-67.4363\"/>\n<polygon fill=\"#000000\" stroke=\"#000000\" points=\"190.8436,-65.2067 186.2473,-74.7527 195.7933,-70.1564 190.8436,-65.2067\"/>\n</g>\n<!-- g -->\n<g id=\"node7\" class=\"node\">\n<title>g</title>\n<ellipse fill=\"none\" stroke=\"#000000\" cx=\"459\" cy=\"-18\" rx=\"27\" ry=\"18\"/>\n<text text-anchor=\"middle\" x=\"459\" y=\"-14.3\" font-family=\"Times,serif\" font-size=\"14.00\" fill=\"#000000\">g</text>\n</g>\n<!-- g&#45;&gt;j -->\n<g id=\"edge6\" class=\"edge\">\n<title>g&#45;&gt;j</title>\n<path fill=\"none\" stroke=\"#000000\" d=\"M450.2854,-35.4292C446.0403,-43.9193 440.8464,-54.3071 436.1337,-63.7326\"/>\n<polygon fill=\"#000000\" stroke=\"#000000\" points=\"432.976,-62.2218 431.6343,-72.7313 439.237,-65.3523 432.976,-62.2218\"/>\n</g>\n<!-- h -->\n<g id=\"node8\" class=\"node\">\n<title>h</title>\n<ellipse fill=\"none\" stroke=\"#000000\" cx=\"531\" cy=\"-18\" rx=\"27\" ry=\"18\"/>\n<text text-anchor=\"middle\" x=\"531\" y=\"-14.3\" font-family=\"Times,serif\" font-size=\"14.00\" fill=\"#000000\">h</text>\n</g>\n<!-- i -->\n<g id=\"node9\" class=\"node\">\n<title>i</title>\n<ellipse fill=\"none\" stroke=\"#000000\" cx=\"315\" cy=\"-18\" rx=\"27\" ry=\"18\"/>\n<text text-anchor=\"middle\" x=\"315\" y=\"-14.3\" font-family=\"Times,serif\" font-size=\"14.00\" fill=\"#000000\">i</text>\n</g>\n<!-- i&#45;&gt;a -->\n<g id=\"edge7\" class=\"edge\">\n<title>i&#45;&gt;a</title>\n<path fill=\"none\" stroke=\"#000000\" d=\"M293.1295,-28.9353C268.7778,-41.1111 229.238,-60.881 201.7715,-74.6142\"/>\n<polygon fill=\"#000000\" stroke=\"#000000\" points=\"199.9835,-71.5951 192.6045,-79.1978 203.114,-77.8561 199.9835,-71.5951\"/>\n</g>\n</g>\n</svg>\n"
          },
          "metadata": {},
          "execution_count": 13
        }
      ]
    },
    {
      "cell_type": "code",
      "source": [],
      "metadata": {
        "id": "uUxxCm_TRgIu"
      },
      "execution_count": null,
      "outputs": []
    }
  ]
}